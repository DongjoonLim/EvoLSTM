{
 "cells": [
  {
   "cell_type": "code",
   "execution_count": 4,
   "metadata": {},
   "outputs": [
    {
     "name": "stdout",
     "output_type": "stream",
     "text": [
      "Tue Jan 28 20:37:01 2020       \n",
      "+-----------------------------------------------------------------------------+\n",
      "| NVIDIA-SMI 440.33.01    Driver Version: 440.33.01    CUDA Version: 10.2     |\n",
      "|-------------------------------+----------------------+----------------------+\n",
      "| GPU  Name        Persistence-M| Bus-Id        Disp.A | Volatile Uncorr. ECC |\n",
      "| Fan  Temp  Perf  Pwr:Usage/Cap|         Memory-Usage | GPU-Util  Compute M. |\n",
      "|===============================+======================+======================|\n",
      "|   0  GeForce RTX 208...  On   | 00000000:1A:00.0 Off |                  N/A |\n",
      "| 30%   32C    P2    58W / 250W |  10671MiB / 11019MiB |      7%      Default |\n",
      "+-------------------------------+----------------------+----------------------+\n",
      "|   1  GeForce RTX 208...  On   | 00000000:1B:00.0 Off |                  N/A |\n",
      "| 31%   40C    P2    76W / 250W |  10671MiB / 11019MiB |      6%      Default |\n",
      "+-------------------------------+----------------------+----------------------+\n",
      "|   2  GeForce RTX 208...  On   | 00000000:1C:00.0 Off |                  N/A |\n",
      "| 30%   32C    P2    46W / 250W |  10671MiB / 11019MiB |      7%      Default |\n",
      "+-------------------------------+----------------------+----------------------+\n",
      "|   3  GeForce RTX 208...  On   | 00000000:1D:00.0 Off |                  N/A |\n",
      "| 31%   44C    P2    71W / 250W |  10671MiB / 11019MiB |     29%      Default |\n",
      "+-------------------------------+----------------------+----------------------+\n",
      "|   4  GeForce RTX 208...  On   | 00000000:1E:00.0 Off |                  N/A |\n",
      "| 30%   29C    P8     7W / 250W |   9017MiB / 11019MiB |      0%      Default |\n",
      "+-------------------------------+----------------------+----------------------+\n",
      "|   5  GeForce RTX 208...  On   | 00000000:3D:00.0 Off |                  N/A |\n",
      "| 30%   36C    P2    52W / 250W |  10671MiB / 11019MiB |     33%      Default |\n",
      "+-------------------------------+----------------------+----------------------+\n",
      "|   6  GeForce RTX 208...  On   | 00000000:3E:00.0 Off |                  N/A |\n",
      "| 30%   27C    P8    13W / 250W |   5100MiB / 11019MiB |      0%      Default |\n",
      "+-------------------------------+----------------------+----------------------+\n",
      "|   7  GeForce RTX 208...  On   | 00000000:3F:00.0 Off |                  N/A |\n",
      "| 31%   45C    P2    58W / 250W |  10671MiB / 11019MiB |     10%      Default |\n",
      "+-------------------------------+----------------------+----------------------+\n",
      "|   8  GeForce RTX 208...  On   | 00000000:40:00.0 Off |                  N/A |\n",
      "| 30%   46C    P2    67W / 250W |  10671MiB / 11019MiB |     30%      Default |\n",
      "+-------------------------------+----------------------+----------------------+\n",
      "|   9  GeForce RTX 208...  On   | 00000000:41:00.0 Off |                  N/A |\n",
      "| 31%   45C    P2    66W / 250W |  10671MiB / 11019MiB |     29%      Default |\n",
      "+-------------------------------+----------------------+----------------------+\n",
      "                                                                               \n",
      "+-----------------------------------------------------------------------------+\n",
      "| Processes:                                                       GPU Memory |\n",
      "|  GPU       PID   Type   Process name                             Usage      |\n",
      "|=============================================================================|\n",
      "|    0     31977      C   ...m63/miniconda3/envs/research/bin/python 10659MiB |\n",
      "|    1     31894      C   ...m63/miniconda3/envs/research/bin/python 10659MiB |\n",
      "|    2     32066      C   ...m63/miniconda3/envs/research/bin/python 10659MiB |\n",
      "|    3     28052      C   python3                                    10659MiB |\n",
      "|    4     14557      C   ...5/anaconda3/envs/single-cell/bin/python  1399MiB |\n",
      "|    4     15895      C   ...5/anaconda3/envs/single-cell/bin/python  1129MiB |\n",
      "|    4     18188      C   ...5/anaconda3/envs/single-cell/bin/python  1385MiB |\n",
      "|    4     23293      C   ...5/anaconda3/envs/single-cell/bin/python  1619MiB |\n",
      "|    4     30865      C   ...5/anaconda3/envs/single-cell/bin/python  1057MiB |\n",
      "|    4     31362      C   ...5/anaconda3/envs/single-cell/bin/python  1379MiB |\n",
      "|    4     39952      C   ...5/anaconda3/envs/single-cell/bin/python  1037MiB |\n",
      "|    5     26077      C   python3                                    10659MiB |\n",
      "|    6      9128      C   ...a3/envs/tensorflow-gpu-rdkit/bin/python  3959MiB |\n",
      "|    6     27834      C   ...5/anaconda3/envs/single-cell/bin/python  1129MiB |\n",
      "|    7     19157      C   python3                                    10659MiB |\n",
      "|    8     14389      C   python3                                    10659MiB |\n",
      "|    9     12384      C   python3                                    10659MiB |\n",
      "+-----------------------------------------------------------------------------+\n"
     ]
    }
   ],
   "source": [
    "import numpy as np\n",
    "from tqdm.notebook import tqdm\n",
    "!nvidia-smi"
   ]
  },
  {
   "cell_type": "code",
   "execution_count": 2,
   "metadata": {},
   "outputs": [
    {
     "name": "stdout",
     "output_type": "stream",
     "text": [
      "25220017 25220017\n"
     ]
    },
    {
     "name": "stderr",
     "output_type": "stream",
     "text": [
      "/home/mcb/users/dlim63/miniconda3/envs/research/lib/python3.7/site-packages/ipykernel_launcher.py:11: TqdmDeprecationWarning: This function will be removed in tqdm==5.0.0\n",
      "Please use `tqdm.notebook.tqdm` instead of `tqdm.tqdm_notebook`\n",
      "  # This is added back by InteractiveShellApp.init_path()\n"
     ]
    },
    {
     "data": {
      "application/vnd.jupyter.widget-view+json": {
       "model_id": "ac14f7f2fa8045569d6abbe9ace569e8",
       "version_major": 2,
       "version_minor": 0
      },
      "text/plain": [
       "HBox(children=(IntProgress(value=0, max=25220002), HTML(value='')))"
      ]
     },
     "metadata": {},
     "output_type": "display_data"
    },
    {
     "name": "stdout",
     "output_type": "stream",
     "text": [
      "\n"
     ]
    },
    {
     "name": "stderr",
     "output_type": "stream",
     "text": [
      "/home/mcb/users/dlim63/miniconda3/envs/research/lib/python3.7/site-packages/ipykernel_launcher.py:20: TqdmDeprecationWarning: This function will be removed in tqdm==5.0.0\n",
      "Please use `tqdm.notebook.tqdm` instead of `tqdm.tqdm_notebook`\n"
     ]
    },
    {
     "data": {
      "application/vnd.jupyter.widget-view+json": {
       "model_id": "6911ef139849496e8bdec6a552b96ba6",
       "version_major": 2,
       "version_minor": 0
      },
      "text/plain": [
       "HBox(children=(IntProgress(value=0, max=21785680), HTML(value='')))"
      ]
     },
     "metadata": {},
     "output_type": "display_data"
    },
    {
     "name": "stderr",
     "output_type": "stream",
     "text": [
      "IOPub data rate exceeded.\n",
      "The notebook server will temporarily stop sending output\n",
      "to the client in order to avoid crashing it.\n",
      "To change this limit, set the config variable\n",
      "`--NotebookApp.iopub_data_rate_limit`.\n",
      "\n",
      "Current values:\n",
      "NotebookApp.iopub_data_rate_limit=1000000.0 (bytes/sec)\n",
      "NotebookApp.rate_limit_window=3.0 (secs)\n",
      "\n"
     ]
    }
   ],
   "source": [
    "k = 7\n",
    "\n",
    "des = str(np.load('prepData/insert2Des__HPGPNRMPC_hg38_chr2.npy'))\n",
    "anc = str(np.load('prepData/insert2Anc__HPGPNRMPC_hg38_chr2.npy'))\n",
    "\n",
    "print(len(anc), len(des))\n",
    "\n",
    "def buildTable(anc, des):\n",
    "    table = {}\n",
    "    freq = {}\n",
    "    for i in tqdm_notebook(range(len(anc)-k*2-1)):\n",
    "        try:\n",
    "            table[anc[i:i+k*2+1], des[i+k]] += 1\n",
    "        except KeyError:\n",
    "            table[anc[i:i+k*2+1], des[i+k]] = 1\n",
    "        try:\n",
    "            freq[anc[i:i+k*2+1]] += 1\n",
    "        except KeyError:\n",
    "            freq[anc[i:i+k*2+1]] = 1\n",
    "    for key in tqdm_notebook(table.keys()):\n",
    "        table[key] = table[key]/freq[key[0]]\n",
    "    return table, freq\n",
    "\n",
    "table, freq = buildTable(anc,des)\n",
    "    \n",
    "print(table)\n",
    "np.save('table_{}'.format(k*2+1), table)"
   ]
  },
  {
   "cell_type": "code",
   "execution_count": 5,
   "metadata": {},
   "outputs": [
    {
     "name": "stdout",
     "output_type": "stream",
     "text": [
      "22587896 22587896 22587896\n",
      "GGCACTGTCT AGCACTGTCT GACACTCTCT\n",
      "42343685 42343685 42343685\n",
      "GTGGTGGTGT GTGGTGGTAT GTGGTGGTGA\n",
      "61140191 61140191 61140191\n",
      "CAAGAACACA CAAGAACACA CAAGAACACA\n",
      "79887837 79887837 79887837\n",
      "AAGCATTTGA AAGCATTTGA AAGCATTTGT\n",
      "104272401 104272401 104272401\n",
      "AAGATTTTGG AAGATATTGG AAGATTTTGA\n",
      "129025047 129025047 129025047\n",
      "TGTGGAAACA TGTGGAAACA TGTGGAAACT\n",
      "149860432 149860432 149860432\n",
      "TAGAGGCCAT TGGAGGCCAT TAGAGGCCAC\n"
     ]
    }
   ],
   "source": [
    "ancName = '_HPGPNRMPC'\n",
    "def load_seq(chromList):\n",
    "    inputAll = ''\n",
    "    predAll = ''\n",
    "    outputAll = ''\n",
    "    for chromosome in chromList:\n",
    "        try:\n",
    "            inputAll += str(np.load('prepData/insert2Anc_{}_hg38_chr{}.npy'.format(ancName,chromosome)))#[:10000000]\n",
    "            outputAll += str(np.load('prepData/insert2Des_{}_hg38_chr{}.npy'.format(ancName,chromosome)))#[:10000000]\n",
    "            predAll += str(np.load('prepData/simulated_{}_-1_chr{}.npy'.format(ancName, chromosome)))#[:10000000]\n",
    "        except FileNotFoundError:\n",
    "            print(chromosome)\n",
    "            continue\n",
    "        print(len(inputAll), len(outputAll), len(predAll))\n",
    "        print(inputAll[-10:], outputAll[-10:], predAll[-10:])\n",
    "    return [inputAll], [outputAll], [predAll]\n",
    "\n",
    "\n",
    "inputAll, outputAll, predAll = load_seq([12,16,17,19,20,21,22])\n"
   ]
  },
  {
   "cell_type": "code",
   "execution_count": 21,
   "metadata": {},
   "outputs": [],
   "source": [
    "np.set_printoptions(precision=15)\n",
    "def model_simulate(alphabet, k, inputAll):\n",
    "    inputAll = inputAll[0]\n",
    "    table15 = np.load('table_15.npy',allow_pickle=True).item()\n",
    "    table11 = np.load('table_11.npy',allow_pickle=True).item()\n",
    "    table5 = np.load('table_5.npy',allow_pickle=True).item()\n",
    "    table1 = np.load('table_1.npy',allow_pickle=True).item()\n",
    "    \n",
    "    pred_table = ''\n",
    "    for i in tqdm_notebook(range(len(inputAll))):\n",
    "        if i <k:\n",
    "            pred_table += inputAll[i]\n",
    "        elif k<=i<len(inputAll)-k:\n",
    "            mut_prob = []\n",
    "            for item in alphabet:\n",
    "                try:\n",
    "                    mut_prob.append(table15[inputAll[i-7:i+7+1], item])\n",
    "                except KeyError:\n",
    "                    try:\n",
    "                        mut_prob.append(table11[inputAll[i-5:i+5+1], item])\n",
    "                    except KeyError:\n",
    "                        try:\n",
    "                            mut_prob.append(table5[inputAll[i-2:i+2+1], item])\n",
    "                        except KeyError:\n",
    "                            try:\n",
    "                                mut_prob.append(table1[inputAll[i], item])\n",
    "                            except KeyError:\n",
    "                                mut_prob.append(0)\n",
    "#             print(mut_prob)\n",
    "#             print(np.random.choice(len(mut_prob), 1, p=mut_prob))\n",
    "#             print(sum(mut_prob))\n",
    "#             mut_prob = [float(i)/sum(mut_prob) for i in mut_prob]\n",
    "            mut_prob = np.array(mut_prob)\n",
    "            mut_prob /= mut_prob.sum()\n",
    "            \n",
    "            pred_table += alphabet[np.random.multinomial(1, mut_prob).argmax()]\n",
    "#             pred_table += alphabet[np.random.choice(len(mut_prob), 1, p=mut_prob)[0]] \n",
    "        else :\n",
    "            pred_table += inputAll[i]\n",
    "    return pred_table"
   ]
  },
  {
   "cell_type": "code",
   "execution_count": 7,
   "metadata": {},
   "outputs": [
    {
     "name": "stdout",
     "output_type": "stream",
     "text": [
      "['A', 'C', 'G', 'T', '-', '0', '^', 'f', '4', 'B', 'w', 't', 'i', 'e', '.', 'c', '>', 'X', '5', '|', '[', 's', 'u', '(', '=', 'q', 'W', '_', '!', '{', '1', 'Q', 'U', 'b', 'M', ';', 'm', '~', 'a', ']', '&', ')', '7', '6', 'p', '%', 'n', 'P', 'F', 'h', '3', ':', 'z', '8', 'R', 'S', '/', 'j', 'o', 'd', '@', 'L', '}', 'H', 'Y', 'x', '\"', 'I', '\\\\', 'J', '9', '`', 'l', '<', 'N', 'V', 'D', '+', 'E', 'Z', '$', '?', '2', 'K', '*', 'g']\n"
     ]
    }
   ],
   "source": [
    "# k = 7\n",
    "mut_dict = np.load('mut_dict_insert2.npy',allow_pickle=True).item()\n",
    "inv_dict = {v: k for k, v in mut_dict.items()}\n",
    "print(list(inv_dict.keys()))\n",
    "alphabet = list(inv_dict.keys())\n",
    "\n",
    "# pred_table = model_simulate(alphabet, k, inputAll)\n",
    "# np.save('predTable_{}'.format(k*2+1), pred_table)\n",
    "# print(pred_table[:1000])\n"
   ]
  },
  {
   "cell_type": "code",
   "execution_count": 16,
   "metadata": {},
   "outputs": [],
   "source": [
    "import math\n",
    "def cross_entropy(alphabet, k, inputAll, outputAll):\n",
    "    inputAll = inputAll[0]\n",
    "    outputAll = outputAll[0]\n",
    "    table = np.load('table_{}.npy'.format(k*2+1),allow_pickle=True).item()\n",
    "    result = 0\n",
    "    count = 0\n",
    "    for i in tqdm_notebook(range(len(inputAll))):\n",
    "        if k<=i<len(inputAll)-k:\n",
    "            try:\n",
    "                result += -math.log(table[inputAll[i-k:i+k+1], outputAll[i]])\n",
    "                count +=1\n",
    "            except KeyError:\n",
    "                continue\n",
    "#                 print('keyError')\n",
    "    return result/count\n",
    "\n",
    "def cross_entropy39(alphabet,inputAll, outputAll):\n",
    "    inputAll = inputAll[0]\n",
    "    outputAll = outputAll[0]\n",
    "    result = 0\n",
    "    count = 0\n",
    "    for i in tqdm(range(len(inputAll))):\n",
    "        if 19<=i<len(inputAll)-19:\n",
    "            try:\n",
    "                result += -math.log(table39[inputAll[i-19:i+19+1], outputAll[i]])\n",
    "                count +=1\n",
    "            except KeyError:\n",
    "                try:\n",
    "                    result += -math.log(table21[inputAll[i-10:i+10+1], outputAll[i]])\n",
    "                    count +=1\n",
    "                except KeyError:\n",
    "                    try:\n",
    "                        result += -math.log(table15[inputAll[i-7:i+7+1], outputAll[i]])\n",
    "                        count +=1\n",
    "                    except KeyError:\n",
    "                        try:\n",
    "                            result += -math.log(table11[inputAll[i-5:i+5+1], outputAll[i]])\n",
    "                            count +=1\n",
    "                        except KeyError:\n",
    "                            try:\n",
    "                                result += -math.log(table5[inputAll[i-2:i+2+1], outputAll[i]])\n",
    "                                count +=1\n",
    "                            except KeyError:\n",
    "                                try:\n",
    "                                    result += -math.log(table1[inputAll[i], outputAll[i]])\n",
    "                                    count +=1\n",
    "                                except KeyError:\n",
    "                                    result += -math.log(0.01020408163265306)\n",
    "                                    count +1\n",
    "    print(result/count)\n",
    "#                 print('keyError')\n",
    "    return result/count\n",
    "\n",
    "def cross_entropy21(alphabet,inputAll, outputAll):\n",
    "    inputAll = inputAll[0]\n",
    "    outputAll = outputAll[0]\n",
    "    result = 0\n",
    "    count = 0\n",
    "    for i in tqdm(range(len(inputAll))):\n",
    "        if 15<=i<len(inputAll)-10:\n",
    "            try:\n",
    "                result += -math.log(table21[inputAll[i-10:i+10+1], outputAll[i]])\n",
    "                count +=1\n",
    "            except KeyError:\n",
    "                try:\n",
    "                    result += -math.log(table15[inputAll[i-7:i+7+1], outputAll[i]])\n",
    "                    count +=1\n",
    "                except KeyError:\n",
    "                    try:\n",
    "                        result += -math.log(table11[inputAll[i-5:i+5+1], outputAll[i]])\n",
    "                        count +=1\n",
    "                    except KeyError:\n",
    "                        try:\n",
    "                            result += -math.log(table5[inputAll[i-2:i+2+1], outputAll[i]])\n",
    "                            count +=1\n",
    "                        except KeyError:\n",
    "                            try:\n",
    "                                result += -math.log(table1[inputAll[i], outputAll[i]])\n",
    "                                count +=1\n",
    "                            except KeyError:\n",
    "                                result += -math.log(0.01020408163265306)\n",
    "                                count +1\n",
    "    print(result/count)\n",
    "#                 print('keyError')\n",
    "    return result/count\n",
    "\n",
    "def cross_entropy15(alphabet,inputAll, outputAll):\n",
    "    inputAll = inputAll[0]\n",
    "    outputAll = outputAll[0]\n",
    "    result = 0\n",
    "    count = 0\n",
    "    for i in tqdm(range(len(inputAll))):\n",
    "        if 15<=i<len(inputAll)-7:\n",
    "            try:\n",
    "                result += -math.log(table15[inputAll[i-7:i+7+1], outputAll[i]])\n",
    "                count +=1\n",
    "            except KeyError:\n",
    "                try:\n",
    "                    result += -math.log(table11[inputAll[i-5:i+5+1], outputAll[i]])\n",
    "                    count +=1\n",
    "                except KeyError:\n",
    "                    try:\n",
    "                        result += -math.log(table5[inputAll[i-2:i+2+1], outputAll[i]])\n",
    "                        count +=1\n",
    "                    except KeyError:\n",
    "                        try:\n",
    "                            result += -math.log(table1[inputAll[i], outputAll[i]])\n",
    "                            count +=1\n",
    "                        except KeyError:\n",
    "                            result += -math.log(0.01020408163265306)\n",
    "                            count +1\n",
    "    print(result/count)\n",
    "#                 print('keyError')\n",
    "    return result/count\n",
    "\n",
    "def cross_entropy11(alphabet,inputAll, outputAll):\n",
    "    inputAll = inputAll[0]\n",
    "    outputAll = outputAll[0]\n",
    "    result = 0\n",
    "    count = 0\n",
    "    for i in tqdm(range(len(inputAll))):\n",
    "        if 15<=i<len(inputAll)-5:\n",
    "            try:\n",
    "                result += -math.log(table11[inputAll[i-5:i+5+1], outputAll[i]])\n",
    "                count +=1\n",
    "            except KeyError:\n",
    "                try:\n",
    "                    result += -math.log(table5[inputAll[i-2:i+2+1], outputAll[i]])\n",
    "                    count +=1\n",
    "                except KeyError:\n",
    "                    try:\n",
    "                        result += -math.log(table1[inputAll[i], outputAll[i]])\n",
    "                        count +=1\n",
    "                    except KeyError:\n",
    "                        result += -math.log(0.01020408163265306)\n",
    "                        count +1\n",
    "    print(result/count)\n",
    "#                 print('keyError')\n",
    "    return result/count\n",
    "\n",
    "def cross_entropy5(alphabet,inputAll, outputAll):\n",
    "    inputAll = inputAll[0]\n",
    "    outputAll = outputAll[0]\n",
    "    result = 0\n",
    "    count = 0\n",
    "    for i in tqdm(range(len(inputAll))):\n",
    "        if 15<=i<len(inputAll)-2:\n",
    "            try:\n",
    "                result += -math.log(table11[inputAll[i-5:i+5+1], outputAll[i]])\n",
    "                count +=1\n",
    "            except KeyError:\n",
    "                try:\n",
    "                    result += -math.log(table1[inputAll[i], outputAll[i]])\n",
    "                    count +=1\n",
    "                except KeyError:\n",
    "                    result += -math.log(0.01020408163265306)\n",
    "                    count +1\n",
    "    print(result/count)\n",
    "#                 print('keyError')\n",
    "    return result/count\n",
    "\n",
    "def cross_entropy1(alphabet,inputAll, outputAll):\n",
    "    inputAll = inputAll[0]\n",
    "    outputAll = outputAll[0]\n",
    "    result = 0\n",
    "    count = 0\n",
    "    for i in tqdm(range(len(inputAll))):\n",
    "        if 15<=i<len(inputAll):\n",
    "            try:\n",
    "                result += -math.log(table1[inputAll[i], outputAll[i]])\n",
    "                count +=1\n",
    "            except KeyError:\n",
    "                result += -math.log(0.01020408163265306)\n",
    "                count +1\n",
    "    print(result/count)\n",
    "#                 print('keyError')\n",
    "    return result/count"
   ]
  },
  {
   "cell_type": "code",
   "execution_count": 9,
   "metadata": {},
   "outputs": [
    {
     "name": "stdout",
     "output_type": "stream",
     "text": [
      "246\n",
      "0.01020408163265306\n"
     ]
    }
   ],
   "source": [
    "table39 = np.load('table_39.npy',allow_pickle=True).item()\n",
    "table21 = np.load('table_21.npy',allow_pickle=True).item()\n",
    "table15 = np.load('table_15.npy',allow_pickle=True).item()\n",
    "table11 = np.load('table_11.npy',allow_pickle=True).item()\n",
    "table5 = np.load('table_5.npy',allow_pickle=True).item()\n",
    "table1 = np.load('table_1.npy',allow_pickle=True).item()\n",
    "print(len(table1.keys()))\n",
    "print(1/98)"
   ]
  },
  {
   "cell_type": "code",
   "execution_count": 10,
   "metadata": {},
   "outputs": [
    {
     "data": {
      "application/vnd.jupyter.widget-view+json": {
       "model_id": "d4553345c8e540179ce1d5beab2931a4",
       "version_major": 2,
       "version_minor": 0
      },
      "text/plain": [
       "HBox(children=(IntProgress(value=0, max=149860432), HTML(value='')))"
      ]
     },
     "metadata": {},
     "output_type": "display_data"
    },
    {
     "name": "stdout",
     "output_type": "stream",
     "text": [
      "\n",
      "0.19454299455827476\n"
     ]
    },
    {
     "data": {
      "text/plain": [
       "0.19454299455827476"
      ]
     },
     "execution_count": 10,
     "metadata": {},
     "output_type": "execute_result"
    }
   ],
   "source": [
    "cross_entropy39(alphabet,inputAll, outputAll)"
   ]
  },
  {
   "cell_type": "code",
   "execution_count": 11,
   "metadata": {},
   "outputs": [
    {
     "data": {
      "application/vnd.jupyter.widget-view+json": {
       "model_id": "d179cf6200a84d649e03e7feb3412e8b",
       "version_major": 2,
       "version_minor": 0
      },
      "text/plain": [
       "HBox(children=(IntProgress(value=0, max=149860432), HTML(value='')))"
      ]
     },
     "metadata": {},
     "output_type": "display_data"
    },
    {
     "name": "stdout",
     "output_type": "stream",
     "text": [
      "\n",
      "0.19491412390645477\n"
     ]
    },
    {
     "data": {
      "text/plain": [
       "0.19491412390645477"
      ]
     },
     "execution_count": 11,
     "metadata": {},
     "output_type": "execute_result"
    }
   ],
   "source": [
    "cross_entropy21(alphabet,inputAll, outputAll)"
   ]
  },
  {
   "cell_type": "code",
   "execution_count": 12,
   "metadata": {},
   "outputs": [
    {
     "data": {
      "application/vnd.jupyter.widget-view+json": {
       "model_id": "15ff4027196a47fe9d2b549833b984fc",
       "version_major": 2,
       "version_minor": 0
      },
      "text/plain": [
       "HBox(children=(IntProgress(value=0, max=149860432), HTML(value='')))"
      ]
     },
     "metadata": {},
     "output_type": "display_data"
    },
    {
     "name": "stdout",
     "output_type": "stream",
     "text": [
      "\n",
      "0.19570464211222716\n"
     ]
    },
    {
     "data": {
      "text/plain": [
       "0.19570464211222716"
      ]
     },
     "execution_count": 12,
     "metadata": {},
     "output_type": "execute_result"
    }
   ],
   "source": [
    "cross_entropy15(alphabet, inputAll, outputAll)"
   ]
  },
  {
   "cell_type": "code",
   "execution_count": 13,
   "metadata": {},
   "outputs": [
    {
     "data": {
      "application/vnd.jupyter.widget-view+json": {
       "model_id": "c92cd99fd6564be78607daef70071332",
       "version_major": 2,
       "version_minor": 0
      },
      "text/plain": [
       "HBox(children=(IntProgress(value=0, max=149860432), HTML(value='')))"
      ]
     },
     "metadata": {},
     "output_type": "display_data"
    },
    {
     "name": "stdout",
     "output_type": "stream",
     "text": [
      "\n",
      "0.1988374347093904\n"
     ]
    },
    {
     "data": {
      "text/plain": [
       "0.1988374347093904"
      ]
     },
     "execution_count": 13,
     "metadata": {},
     "output_type": "execute_result"
    }
   ],
   "source": [
    "cross_entropy11(alphabet,inputAll, outputAll)"
   ]
  },
  {
   "cell_type": "code",
   "execution_count": 14,
   "metadata": {},
   "outputs": [
    {
     "data": {
      "application/vnd.jupyter.widget-view+json": {
       "model_id": "0035836b859a447b917f467f04d07bbb",
       "version_major": 2,
       "version_minor": 0
      },
      "text/plain": [
       "HBox(children=(IntProgress(value=0, max=149860432), HTML(value='')))"
      ]
     },
     "metadata": {},
     "output_type": "display_data"
    },
    {
     "name": "stdout",
     "output_type": "stream",
     "text": [
      "\n",
      "0.2009239130577984\n"
     ]
    },
    {
     "data": {
      "text/plain": [
       "0.2009239130577984"
      ]
     },
     "execution_count": 14,
     "metadata": {},
     "output_type": "execute_result"
    }
   ],
   "source": [
    "cross_entropy5(alphabet, inputAll, outputAll)"
   ]
  },
  {
   "cell_type": "code",
   "execution_count": 17,
   "metadata": {},
   "outputs": [
    {
     "data": {
      "application/vnd.jupyter.widget-view+json": {
       "model_id": "4227b3a804f94d8a97001d0772c6710c",
       "version_major": 2,
       "version_minor": 0
      },
      "text/plain": [
       "HBox(children=(IntProgress(value=0, max=149860432), HTML(value='')))"
      ]
     },
     "metadata": {},
     "output_type": "display_data"
    },
    {
     "name": "stdout",
     "output_type": "stream",
     "text": [
      "\n",
      "0.22001797896458855\n"
     ]
    },
    {
     "data": {
      "text/plain": [
       "0.22001797896458855"
      ]
     },
     "execution_count": 17,
     "metadata": {},
     "output_type": "execute_result"
    }
   ],
   "source": [
    "cross_entropy1(alphabet, inputAll, outputAll)"
   ]
  },
  {
   "cell_type": "code",
   "execution_count": null,
   "metadata": {},
   "outputs": [],
   "source": [
    "0.22000798713506123 0.20882172435559532 0.07722072727808955 0.098972098412289 0.11081867999770367 0.06958409766111845"
   ]
  },
  {
   "cell_type": "code",
   "execution_count": null,
   "metadata": {},
   "outputs": [],
   "source": [
    "cross_entropy2(alphabet, 0, inputAll, outputAll)\n",
    "cross_entropy2(alphabet, 2, inputAll, outputAll)\n",
    "cross_entropy2(alphabet, 5, inputAll, outputAll)\n",
    "cross_entropy2(alphabet, 7, inputAll, outputAll)\n",
    "cross_entropy2(alphabet, 10, inputAll, outputAll)\n",
    "cross_entropy2(alphabet, 19, inputAll, outputAll)"
   ]
  }
 ],
 "metadata": {
  "kernelspec": {
   "display_name": "Python 3",
   "language": "python",
   "name": "python3"
  },
  "language_info": {
   "codemirror_mode": {
    "name": "ipython",
    "version": 3
   },
   "file_extension": ".py",
   "mimetype": "text/x-python",
   "name": "python",
   "nbconvert_exporter": "python",
   "pygments_lexer": "ipython3",
   "version": "3.7.5"
  }
 },
 "nbformat": 4,
 "nbformat_minor": 2
}
