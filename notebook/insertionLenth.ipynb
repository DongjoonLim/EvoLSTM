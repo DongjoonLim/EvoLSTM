{
 "cells": [
  {
   "cell_type": "code",
   "execution_count": null,
   "metadata": {},
   "outputs": [],
   "source": [
    "def maxRepeating(str): \n",
    "    n = len(str) \n",
    "    count = 0\n",
    "    res = str[0] \n",
    "    cur_count = 1\n",
    "    dist ={}\n",
    "    for i in tqdm_notebook(range(n)): \n",
    "        if (i < n - 1 and \n",
    "            str[i] == str[i + 1]): \n",
    "            cur_count += 1\n",
    "        else: \n",
    "            if str[i] != '-':\n",
    "                try:\n",
    "                    cur_count = 0\n",
    "                    dist[cur_count] += 1\n",
    "                except KeyError:\n",
    "                    dist[cur_count] = 0\n",
    "            else :\n",
    "                try:\n",
    "                    dist[cur_count] += 1\n",
    "                except KeyError:\n",
    "                    dist[cur_count] = 1\n",
    "    distSum = sum(dist.values())\n",
    "    for item in dist.keys():\n",
    "        dist[item] =  dist[item]/distSum\n",
    "    del dist[0]\n",
    "    dist= dict(sorted(dist.items()))\n",
    "    \n",
    "    return dist \n",
    "\n",
    "predTable5 = str(np.load('predTable_{}.npy'.format(5)))\n",
    "predTable15 = str(np.load('predTable_{}.npy'.format(15)))\n",
    "lstm_predAll = str(np.load('simulated_{}_lstm.npy'.format(ancName)))\n",
    "lstmGapDist = maxRepeating(lstm_predAll)\n",
    "tableGapDist5 = maxRepeating(predTable5)\n",
    "tableGapDist15 = maxRepeating(predTable15)\n",
    "predGapDist = maxRepeating(predAll[0])\n",
    "trueGapDist = maxRepeating(outputAll[0])\n",
    "\n",
    "print(predGapDist)\n",
    "print(trueGapDist)\n",
    "print(tableGapDist)\n",
    "insertLen = 30\n",
    "print(lstmGapDist)\n",
    "plt.plot(list(predGapDist.keys())[:insertLen], list(predGapDist.values())[:insertLen], label = 'DeepEvoLSTM')\n",
    "plt.plot(list(lstmGapDist.keys())[:insertLen], list(lstmGapDist.values())[:insertLen], label = 'lstm')\n",
    "plt.plot(list(trueGapDist.keys())[:insertLen], list(trueGapDist.values())[:insertLen], label = 'Observed')\n",
    "plt.plot(list(tableGapDist5.keys())[:insertLen], list(tableGapDist5.values())[:insertLen], label = 'Table context=5')\n",
    "plt.plot(list(tableGapDist15.keys())[:insertLen], list(tableGapDist15.values())[:insertLen], label = 'Table context=15')\n",
    "plt.xlabel('Insertion Length')\n",
    "plt.title(\"Insertion length distribution\")\n",
    "plt.legend()\n",
    "# print(str(np.load('simulated_{}_lstm.npy'.format(ancName))))"
   ]
  }
 ],
 "metadata": {
  "kernelspec": {
   "display_name": "Python 3",
   "language": "python",
   "name": "python3"
  },
  "language_info": {
   "codemirror_mode": {
    "name": "ipython",
    "version": 3
   },
   "file_extension": ".py",
   "mimetype": "text/x-python",
   "name": "python",
   "nbconvert_exporter": "python",
   "pygments_lexer": "ipython3",
   "version": "3.7.5"
  }
 },
 "nbformat": 4,
 "nbformat_minor": 2
}
