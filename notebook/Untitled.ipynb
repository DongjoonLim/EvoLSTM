{
 "cells": [
  {
   "cell_type": "code",
   "execution_count": 3,
   "metadata": {},
   "outputs": [
    {
     "name": "stdout",
     "output_type": "stream",
     "text": [
      "\u001b[?1h\u001b=\u001b[H\u001b[2J\u001b[mtop - 11:33:05 up 6 days, 19:42, 12 users,  load average: 2.16, 2.76, 3.30\u001b[m\u001b[m\u001b[m\u001b[m\u001b[K\n",
      "Tasks:\u001b[m\u001b[m\u001b[1m 822 \u001b[m\u001b[mtotal,\u001b[m\u001b[m\u001b[1m   1 \u001b[m\u001b[mrunning,\u001b[m\u001b[m\u001b[1m 605 \u001b[m\u001b[msleeping,\u001b[m\u001b[m\u001b[1m   0 \u001b[m\u001b[mstopped,\u001b[m\u001b[m\u001b[1m   0 \u001b[m\u001b[mzombie\u001b[m\u001b[m\u001b[m\u001b[m\u001b[K\n",
      "%Cpu(s):\u001b[m\u001b[m\u001b[1m 17.2 \u001b[m\u001b[mus,\u001b[m\u001b[m\u001b[1m  1.2 \u001b[m\u001b[msy,\u001b[m\u001b[m\u001b[1m  0.0 \u001b[m\u001b[mni,\u001b[m\u001b[m\u001b[1m 81.5 \u001b[m\u001b[mid,\u001b[m\u001b[m\u001b[1m  0.0 \u001b[m\u001b[mwa,\u001b[m\u001b[m\u001b[1m  0.0 \u001b[m\u001b[mhi,\u001b[m\u001b[m\u001b[1m  0.0 \u001b[m\u001b[msi,\u001b[m\u001b[m\u001b[1m  0.0 \u001b[m\u001b[mst\u001b[m\u001b[m\u001b[m\u001b[m\u001b[K\n",
      "KiB Mem :\u001b[m\u001b[m\u001b[1m 39486521+\u001b[m\u001b[mtotal,\u001b[m\u001b[m\u001b[1m 23836425+\u001b[m\u001b[mfree,\u001b[m\u001b[m\u001b[1m 13759020+\u001b[m\u001b[mused,\u001b[m\u001b[m\u001b[1m 18910744 \u001b[m\u001b[mbuff/cache\u001b[m\u001b[m\u001b[m\u001b[m\u001b[K\n",
      "KiB Swap:\u001b[m\u001b[m\u001b[1m 32567292 \u001b[m\u001b[mtotal,\u001b[m\u001b[m\u001b[1m 32563708 \u001b[m\u001b[mfree,\u001b[m\u001b[m\u001b[1m     3584 \u001b[m\u001b[mused.\u001b[m\u001b[m\u001b[1m 25452582+\u001b[m\u001b[mavail Mem \u001b[m\u001b[m\u001b[m\u001b[m\u001b[K\n",
      "\u001b[K\n",
      "\u001b[7m  PID USER      PR  NI    VIRT    RES    SHR S  %CPU %MEM     TIME+ COMMAND     \u001b[m\u001b[m\u001b[K\n",
      "\u001b[m 1549 elayne    20   0 31.247g 2.184g 549156 S 100.0  0.6  62:53.56 python3     \u001b[m\u001b[m\u001b[K\n",
      "\u001b[m 4833 elayne    20   0 31.247g 2.184g 549784 S  94.7  0.6  60:43.59 python3     \u001b[m\u001b[m\u001b[K\n",
      "\u001b[m\u001b[1m38592 dlim63    20   0   53660   4552   3356 R  15.8  0.0   0:00.06 top         \u001b[m\u001b[m\u001b[K\n",
      "\u001b[m12785 dlim63    20   0 7314036 3.378g  14532 S   5.3  0.9 255:11.74 ZMQbg/103   \u001b[m\u001b[m\u001b[K\n",
      "\u001b[m14557 mbahra5   20   0 19.255g 8.327g 726608 S   5.3  2.2  62:32.97 ZMQbg/1     \u001b[m\u001b[m\u001b[K\n",
      "\u001b[m    1 root      20   0  226404  10108   6720 S   0.0  0.0   3:39.59 systemd     \u001b[m\u001b[m\u001b[K\n",
      "\u001b[m    2 root      20   0       0      0      0 S   0.0  0.0   0:01.07 kthreadd    \u001b[m\u001b[m\u001b[K\n",
      "\u001b[m    4 root       0 -20       0      0      0 I   0.0  0.0   0:00.00 kworker/0:+ \u001b[m\u001b[m\u001b[K\n",
      "\u001b[m    6 root      20   0       0      0      0 I   0.0  0.0   0:00.02 kworker/u8+ \u001b[m\u001b[m\u001b[K\n",
      "\u001b[m    7 root       0 -20       0      0      0 I   0.0  0.0   0:00.00 mm_percpu_+ \u001b[m\u001b[m\u001b[K\n",
      "\u001b[m    8 root      20   0       0      0      0 S   0.0  0.0   0:47.95 ksoftirqd/0 \u001b[m\u001b[m\u001b[K\n",
      "\u001b[m    9 root      20   0       0      0      0 I   0.0  0.0  12:28.53 rcu_sched   \u001b[m\u001b[m\u001b[K\n",
      "\u001b[m   10 root      20   0       0      0      0 I   0.0  0.0   0:00.00 rcu_bh      \u001b[m\u001b[m\u001b[K\n",
      "\u001b[m   11 root      rt   0       0      0      0 S   0.0  0.0   0:01.07 migration/0 \u001b[m\u001b[m\u001b[K\n",
      "\u001b[m   12 root      rt   0       0      0      0 S   0.0  0.0   0:01.13 watchdog/0  \u001b[m\u001b[m\u001b[K\n",
      "\u001b[m   13 root      20   0       0      0      0 S   0.0  0.0   0:00.00 cpuhp/0     \u001b[m\u001b[m\u001b[K\n",
      "\u001b[m   14 root      20   0       0      0      0 S   0.0  0.0   0:00.00 cpuhp/1     \u001b[m\u001b[m\u001b[K\u001b[H\u001b[mtop - 11:33:08 up 6 days, 19:42, 12 users,  load average: 2.16, 2.76, 3.30\u001b[m\u001b[m\u001b[m\u001b[m\u001b[K\n",
      "Tasks:\u001b[m\u001b[m\u001b[1m 823 \u001b[m\u001b[mtotal,\u001b[m\u001b[m\u001b[1m   1 \u001b[m\u001b[mrunning,\u001b[m\u001b[m\u001b[1m 606 \u001b[m\u001b[msleeping,\u001b[m\u001b[m\u001b[1m   0 \u001b[m\u001b[mstopped,\u001b[m\u001b[m\u001b[1m   0 \u001b[m\u001b[mzombie\u001b[m\u001b[m\u001b[m\u001b[m\u001b[K\n",
      "%Cpu(s):\u001b[m\u001b[m\u001b[1m  5.3 \u001b[m\u001b[mus,\u001b[m\u001b[m\u001b[1m  0.2 \u001b[m\u001b[msy,\u001b[m\u001b[m\u001b[1m  0.0 \u001b[m\u001b[mni,\u001b[m\u001b[m\u001b[1m 94.4 \u001b[m\u001b[mid,\u001b[m\u001b[m\u001b[1m  0.0 \u001b[m\u001b[mwa,\u001b[m\u001b[m\u001b[1m  0.0 \u001b[m\u001b[mhi,\u001b[m\u001b[m\u001b[1m  0.0 \u001b[m\u001b[msi,\u001b[m\u001b[m\u001b[1m  0.0 \u001b[m\u001b[mst\u001b[m\u001b[m\u001b[m\u001b[m\u001b[K\n",
      "KiB Mem :\u001b[m\u001b[m\u001b[1m 39486521+\u001b[m\u001b[mtotal,\u001b[m\u001b[m\u001b[1m 23836352+\u001b[m\u001b[mfree,\u001b[m\u001b[m\u001b[1m 13759094+\u001b[m\u001b[mused,\u001b[m\u001b[m\u001b[1m 18910744 \u001b[m\u001b[mbuff/cache\u001b[m\u001b[m\u001b[m\u001b[m\u001b[K\n",
      "KiB Swap:\u001b[m\u001b[m\u001b[1m 32567292 \u001b[m\u001b[mtotal,\u001b[m\u001b[m\u001b[1m 32563708 \u001b[m\u001b[mfree,\u001b[m\u001b[m\u001b[1m     3584 \u001b[m\u001b[mused.\u001b[m\u001b[m\u001b[1m 25452505+\u001b[m\u001b[mavail Mem \u001b[m\u001b[m\u001b[m\u001b[m\u001b[K\n",
      "\u001b[K\n",
      "\n",
      "\u001b[m 1549 elayne    20   0 31.247g 2.184g 549156 S 101.0  0.6  62:56.62 python3     \u001b[m\u001b[m\u001b[K\n",
      "\u001b[m 4833 elayne    20   0 31.247g 2.184g 549784 S 101.0  0.6  60:46.65 python3     \u001b[m\u001b[m\u001b[K\n",
      "\u001b[m 1835 avahi     20   0   51964   4644   3020 S   3.3  0.0 379:01.47 avahi-daem+ \u001b[m\u001b[m\u001b[K\n",
      "\u001b[m 1832 message+  20   0   69884   5852   3788 S   2.3  0.0 437:34.93 dbus-daemon \u001b[m\u001b[m\u001b[K\n",
      "\u001b[m14234 root      20   0  303168  15412   9628 S   2.3  0.0  48:16.38 cups-brows+ \u001b[m\u001b[m\u001b[K\n",
      "\u001b[m39236 dlim63    20   0  546188  53072  14180 S   2.3  0.0   0:45.04 ZMQbg/1     \u001b[m\u001b[m\u001b[K\n",
      "\u001b[m\u001b[1m38592 dlim63    20   0   53660   4552   3356 R   1.0  0.0   0:00.09 top         \u001b[m\u001b[m\u001b[K\n",
      "\u001b[m 1888 root      20   0   63820  14948   4764 S   0.7  0.0  21:41.15 smartIPMIf+ \u001b[m\u001b[m\u001b[K\n",
      "\u001b[m 9128 zyan9     20   0 71.533g 0.015t 728408 S   0.7  4.0  68:45.39 ZMQbg/1     \u001b[m\u001b[m\u001b[K\n",
      "\u001b[m  246 root      20   0       0      0      0 S   0.3  0.0   0:10.96 ksoftirqd/+ \u001b[m\u001b[m\u001b[K\n",
      "\u001b[m 1263 root      39  19       0      0      0 D   0.3  0.0  99:58.96 kipmi0      \u001b[m\u001b[m\u001b[K\n",
      "\u001b[m 1730 root     -51   0       0      0      0 S   0.3  0.0  10:14.40 irq/439-nv+ \u001b[m\u001b[m\u001b[K\n",
      "\u001b[m 1886 root      20   0  315280  11508   8036 S   0.3  0.0   9:57.03 polkitd     \u001b[m\u001b[m\u001b[K\n",
      "\u001b[m 1901 root      20   0   59872  11492   3184 S   0.3  0.0  10:47.32 smartIPMIf+ \u001b[m\u001b[m\u001b[K\n",
      "\u001b[m 1936 root      20   0   17652   6040   3040 S   0.3  0.0   0:52.97 nvidia-smi  \u001b[m\u001b[m\u001b[K\n",
      "\u001b[m 1997 root     -51   0       0      0      0 S   0.3  0.0  10:24.00 irq/441-nv+ \u001b[m\u001b[m\u001b[K\n",
      "\u001b[m 2261 root     -51   0       0      0      0 S   0.3  0.0  10:15.47 irq/443-nv+ \u001b[m\u001b[m\u001b[K\u001b[H\u001b[mtop - 11:33:11 up 6 days, 19:42, 12 users,  load average: 2.23, 2.76, 3.30\u001b[m\u001b[m\u001b[m\u001b[m\u001b[K\n",
      "Tasks:\u001b[m\u001b[m\u001b[1m 823 \u001b[m\u001b[mtotal,\u001b[m\u001b[m\u001b[1m   2 \u001b[m\u001b[mrunning,\u001b[m\u001b[m\u001b[1m 605 \u001b[m\u001b[msleeping,\u001b[m\u001b[m\u001b[1m   0 \u001b[m\u001b[mstopped,\u001b[m\u001b[m\u001b[1m   0 \u001b[m\u001b[mzombie\u001b[m\u001b[m\u001b[m\u001b[m\u001b[K\n",
      "%Cpu(s):\u001b[m\u001b[m\u001b[1m  5.4 \u001b[m\u001b[mus,\u001b[m\u001b[m\u001b[1m  0.3 \u001b[m\u001b[msy,\u001b[m\u001b[m\u001b[1m  0.0 \u001b[m\u001b[mni,\u001b[m\u001b[m\u001b[1m 94.3 \u001b[m\u001b[mid,\u001b[m\u001b[m\u001b[1m  0.0 \u001b[m\u001b[mwa,\u001b[m\u001b[m\u001b[1m  0.0 \u001b[m\u001b[mhi,\u001b[m\u001b[m\u001b[1m  0.0 \u001b[m\u001b[msi,\u001b[m\u001b[m\u001b[1m  0.0 \u001b[m\u001b[mst\u001b[m\u001b[m\u001b[m\u001b[m\u001b[K\n",
      "KiB Mem :\u001b[m\u001b[m\u001b[1m 39486521+\u001b[m\u001b[mtotal,\u001b[m\u001b[m\u001b[1m 23836297+\u001b[m\u001b[mfree,\u001b[m\u001b[m\u001b[1m 13759147+\u001b[m\u001b[mused,\u001b[m\u001b[m\u001b[1m 18910760 \u001b[m\u001b[mbuff/cache\u001b[m\u001b[m\u001b[m\u001b[m\u001b[K\n",
      "KiB Swap:\u001b[m\u001b[m\u001b[1m 32567292 \u001b[m\u001b[mtotal,\u001b[m\u001b[m\u001b[1m 32563708 \u001b[m\u001b[mfree,\u001b[m\u001b[m\u001b[1m     3584 \u001b[m\u001b[mused.\u001b[m\u001b[m\u001b[1m 25452451+\u001b[m\u001b[mavail Mem \u001b[m\u001b[m\u001b[m\u001b[m\u001b[K\n",
      "\u001b[K\n",
      "\n",
      "\u001b[m 1549 elayne    20   0 31.247g 2.184g 549156 S 101.3  0.6  62:59.69 python3     \u001b[m\u001b[m\u001b[K\n",
      "\u001b[m 4833 elayne    20   0 31.247g 2.184g 549784 S 101.0  0.6  60:49.71 python3     \u001b[m\u001b[m\u001b[K\n",
      "\u001b[m 1263 root      39  19       0      0      0 S   4.6  0.0  99:59.10 kipmi0      \u001b[m\u001b[m\u001b[K\n",
      "\u001b[m\u001b[1m14234 root      20   0  303168  15412   9628 R   2.6  0.0  48:16.46 cups-brows+ \u001b[m\u001b[m\u001b[K\n",
      "\u001b[m 1835 avahi     20   0   51964   4644   3020 S   2.3  0.0 379:01.54 avahi-daem+ \u001b[m\u001b[m\u001b[K\n",
      "\u001b[m 1832 message+  20   0   69884   5852   3788 S   2.0  0.0 437:34.99 dbus-daemon \u001b[m\u001b[m\u001b[K\n",
      "\u001b[m39236 dlim63    20   0  546188  53072  14180 S   2.0  0.0   0:45.10 ZMQbg/1     \u001b[m\u001b[m\u001b[K\n",
      "\u001b[m14233 root      20   0  119828  26820   7092 S   1.3  0.0  11:39.95 cupsd       \u001b[m\u001b[m\u001b[K\n",
      "\u001b[m\u001b[1m38592 dlim63    20   0   53660   4552   3356 R   1.0  0.0   0:00.12 top         \u001b[m\u001b[m\u001b[K\n",
      "\u001b[m 3197 gdm       20   0 7423828 208876  80200 S   0.7  0.1   7:30.93 gnome-shell \u001b[m\u001b[m\u001b[K\n",
      "\u001b[m 7719 root      20   0 5025476  16736   8956 S   0.7  0.0  49:56.93 automount   \u001b[m\u001b[m\u001b[K\n",
      "\u001b[m 9128 zyan9     20   0 71.533g 0.015t 728408 S   0.7  4.0  68:45.41 ZMQbg/1     \u001b[m\u001b[m\u001b[K\n",
      "\u001b[m 1837 root     -51   0       0      0      0 S   0.3  0.0  11:17.78 irq/440-nv+ \u001b[m\u001b[m\u001b[K\n",
      "\u001b[m 1925 root      20   0   63820  13164   2976 S   0.3  0.0  13:38.15 smartIPMIf+ \u001b[m\u001b[m\u001b[K\n",
      "\u001b[m 1938 root      20   0   63820  13100   2912 S   0.3  0.0   0:42.28 smartIPMIf+ \u001b[m\u001b[m\u001b[K\n",
      "\u001b[m 2397 root     -51   0       0      0      0 S   0.3  0.0  10:12.49 irq/446-nv+ \u001b[m\u001b[m\u001b[K\n",
      "\u001b[m 2721 root      20   0       0      0      0 I   0.3  0.0   0:00.54 kworker/23+ \u001b[m\u001b[m\u001b[K\u001b[?1l\u001b>\u001b[25;1H\n",
      "\u001b[K"
     ]
    }
   ],
   "source": [
    "!top"
   ]
  }
 ],
 "metadata": {
  "kernelspec": {
   "display_name": "Python 3",
   "language": "python",
   "name": "python3"
  },
  "language_info": {
   "codemirror_mode": {
    "name": "ipython",
    "version": 3
   },
   "file_extension": ".py",
   "mimetype": "text/x-python",
   "name": "python",
   "nbconvert_exporter": "python",
   "pygments_lexer": "ipython3",
   "version": "3.7.5"
  }
 },
 "nbformat": 4,
 "nbformat_minor": 2
}
