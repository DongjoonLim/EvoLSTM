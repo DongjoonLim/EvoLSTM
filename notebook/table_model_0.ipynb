{
 "cells": [
  {
   "cell_type": "code",
   "execution_count": 2,
   "metadata": {},
   "outputs": [],
   "source": [
    "import numpy as np\n",
    "from tqdm import tqdm_notebook"
   ]
  },
  {
   "cell_type": "code",
   "execution_count": 3,
   "metadata": {},
   "outputs": [
    {
     "name": "stdout",
     "output_type": "stream",
     "text": [
      "25220017 25220017\n"
     ]
    },
    {
     "name": "stderr",
     "output_type": "stream",
     "text": [
      "/home/mcb/users/dlim63/miniconda3/envs/research/lib/python3.7/site-packages/ipykernel_launcher.py:11: TqdmDeprecationWarning: This function will be removed in tqdm==5.0.0\n",
      "Please use `tqdm.notebook.tqdm` instead of `tqdm.tqdm_notebook`\n",
      "  # This is added back by InteractiveShellApp.init_path()\n"
     ]
    },
    {
     "data": {
      "application/vnd.jupyter.widget-view+json": {
       "model_id": "8dc1ace27c064d9d96d6ccb8be4533f0",
       "version_major": 2,
       "version_minor": 0
      },
      "text/plain": [
       "HBox(children=(IntProgress(value=0, max=25220016), HTML(value='')))"
      ]
     },
     "metadata": {},
     "output_type": "display_data"
    },
    {
     "name": "stdout",
     "output_type": "stream",
     "text": [
      "\n"
     ]
    },
    {
     "name": "stderr",
     "output_type": "stream",
     "text": [
      "/home/mcb/users/dlim63/miniconda3/envs/research/lib/python3.7/site-packages/ipykernel_launcher.py:20: TqdmDeprecationWarning: This function will be removed in tqdm==5.0.0\n",
      "Please use `tqdm.notebook.tqdm` instead of `tqdm.tqdm_notebook`\n"
     ]
    },
    {
     "data": {
      "application/vnd.jupyter.widget-view+json": {
       "model_id": "6ec62c6041794aeda74baafc744a7790",
       "version_major": 2,
       "version_minor": 0
      },
      "text/plain": [
       "HBox(children=(IntProgress(value=0, max=246), HTML(value='')))"
      ]
     },
     "metadata": {},
     "output_type": "display_data"
    },
    {
     "name": "stdout",
     "output_type": "stream",
     "text": [
      "\n",
      "{('A', 'A'): 0.9687970109178317, ('T', 'T'): 0.9684998240399109, ('G', 'G'): 0.9530094946011275, ('C', 'C'): 0.9533092578782877, ('T', 'C'): 0.01432151892290292, ('C', 'A'): 0.005488384477382944, ('C', 'T'): 0.028597097352910234, ('G', 'C'): 0.005487059369810127, ('G', 'H'): 6.1786992153051996e-06, ('T', 'G'): 0.004146543767582176, ('A', 'T'): 0.0033070684639000796, ('C', 'N'): 0.00015994443839299595, ('A', '-'): 0.009167725682283776, ('C', '-'): 0.006596637442825449, ('T', 'A'): 0.003330376687390855, ('G', 'T'): 0.005503723134360495, ('A', 'G'): 0.014067747785271058, ('C', 'G'): 0.005443510659393757, ('A', '`'): 5.5772609302294275e-05, ('A', '<'): 5.8932141356365135e-05, ('A', 'l'): 0.00014657481311711328, ('T', '?'): 6.806003448375081e-05, ('G', 'A'): 0.028692942989329572, ('A', 'C'): 0.004110688573305058, ('T', '-'): 0.009158224640167151, ('G', '-'): 0.006809675468504549, ('T', 'E'): 0.0001377800698085687, ('C', 'E'): 4.841158787215245e-06, ('G', 'R'): 1.7225464479032678e-05, ('C', 'D'): 0.00014597955727602892, ('G', 'g'): 5.4110426461309173e-05, ('G', '*'): 0.00011552295199525176, ('G', '2'): 0.00013181224992651091, ('A', '9'): 0.0001317387495588675, ('A', 'D'): 1.3737095887264598e-06, ('G', 'K'): 4.96168270319963e-05, ('C', '!'): 1.0985706478680747e-05, ('C', '='): 1.433727794675284e-05, ('T', '$'): 0.0001224250620286981, ('A', '>'): 1.744611177682604e-05, ('C', 'f'): 7.447936595715761e-07, ('A', 'w'): 1.0440192874321095e-05, ('T', 'D'): 3.1816682787119277e-06, ('C', 'q'): 1.1544301723359428e-05, ('A', '^'): 3.049635286972741e-05, ('T', 'a'): 1.4525007359337061e-05, ('T', 'Z'): 5.699336220997019e-05, ('T', ')'): 4.2883355060899896e-06, ('A', 'B'): 6.8685479436322994e-06, ('C', '+'): 2.588157967011227e-05, ('G', '?'): 1.3106331668829211e-06, ('A', '}'): 4.1211287661793796e-07, ('C', 'Q'): 7.075539765929972e-06, ('T', 'u'): 6.916670171112887e-07, ('A', 'Y'): 5.49483835490584e-07, ('C', '('): 9.123722329751807e-06, ('A', 'i'): 5.906951231523777e-06, ('G', '\"'): 8.987198858625746e-06, ('A', '.'): 1.2226015339665493e-05, ('C', 'U'): 2.17852145424686e-05, ('T', '6'): 4.7033357163567625e-06, ('G', 'x'): 1.1046765263727477e-05, ('G', 'Y'): 1.3293564978383914e-05, ('A', '4'): 8.379628491231406e-06, ('T', 'z'): 9.406671432713525e-06, ('A', '|'): 1.7858224653443979e-06, ('C', 'b'): 1.0240912819109171e-05, ('G', '`'): 3.7446661910940602e-06, ('A', '$'): 1.3737095887264598e-06, ('A', 'c'): 3.2969030129435037e-06, ('G', 'J'): 6.740399143969309e-06, ('T', 'F'): 3.04333487528967e-05, ('C', 'u'): 1.955083356375387e-05, ('C', 'V'): 5.2880349829581903e-05, ('G', 'd'): 4.680832738867575e-06, ('G', 'o'): 7.863799001297527e-06, ('T', '7'): 5.2566693300457935e-06, ('G', '@'): 3.1829662624299515e-06, ('C', '?'): 8.565127085073125e-06, ('C', 'a'): 1.117190489357364e-06, ('G', '/'): 5.429765977086388e-06, ('A', '['): 4.395870683924672e-06, ('T', 'P'): 9.406671432713525e-06, ('G', '}'): 6.1786992153051996e-06, ('T', 'm'): 4.150002102667732e-07, ('G', 'j'): 4.868066048422279e-06, ('A', 'N'): 2.472677259707628e-06, ('A', 'X'): 7.0059189025049454e-06, ('G', '9'): 4.493599429312873e-06, ('C', '_'): 6.51694452125129e-06, ('G', 'Q'): 3.7446661910940607e-07, ('A', 'f'): 8.654370408976698e-06, ('G', '\\\\'): 8.425498929961636e-06, ('T', '('): 2.7666680684451547e-07, ('T', '3'): 4.0116686992454745e-06, ('A', 'e'): 2.335306300834982e-06, ('C', 'W'): 8.006531840394444e-06, ('T', 'M'): 1.3833340342225773e-07, ('A', 's'): 5.082725478287902e-06, ('T', 'p'): 6.501669960846113e-06, ('C', ';'): 2.234380978714728e-06, ('T', 'l'): 2.4900012616006392e-06, ('C', '1'): 8.37892867018023e-06, ('T', '8'): 4.5650023129345054e-06, ('A', 'F'): 9.61596712108522e-07, ('G', '<'): 3.5574328815393573e-06, ('G', 'I'): 2.808499643320545e-06, ('T', '2'): 1.1066672273780619e-06, ('G', 'e'): 3.7446661910940607e-07, ('A', '+'): 4.1211287661793796e-07, ('T', 'n'): 1.2035006097736424e-05, ('T', '['): 1.3833340342225773e-07, ('A', '2'): 2.335306300834982e-06, ('G', '.'): 7.489332382188121e-07, ('C', 'M'): 1.4895873191431521e-06, ('C', '{'): 2.7929762233934104e-06, ('T', '&'): 1.1066672273780619e-05, ('T', 'h'): 8.438337608757722e-06, ('C', ']'): 1.117190489357364e-06, ('A', '*'): 3.7090158895614417e-06, ('G', 'l'): 5.2425326675316845e-06, ('G', ':'): 1.8723330955470303e-07, ('A', 'g'): 5.49483835490584e-07, ('C', 'l'): 1.6757857340360462e-06, ('C', 'm'): 3.1653730531791985e-06, ('A', 't'): 4.80798356054261e-06, ('G', 'S'): 4.868066048422279e-06, ('A', 'V'): 9.61596712108522e-07, ('G', 't'): 7.489332382188121e-07, ('A', '5'): 4.533241642797318e-06, ('T', ':'): 2.2133344547561238e-06, ('T', 'U'): 1.3833340342225773e-06, ('A', 'Z'): 1.37370958872646e-07, ('T', '_'): 2.7666680684451547e-07, ('A', '?'): 4.1211287661793796e-07, ('T', '^'): 6.916670171112887e-07, ('A', '_'): 1.37370958872646e-07, ('G', 'L'): 2.059566405101733e-06, ('A', '7'): 1.37370958872646e-07, ('A', 'E'): 2.06056438308969e-06, ('A', '@'): 1.37370958872646e-07, ('T', 'N'): 3.596668488978701e-06, ('C', '<'): 1.117190489357364e-06, ('T', '!'): 4.150002102667732e-07, ('T', ']'): 5.2566693300457935e-06, ('C', 'Z'): 2.9791746382863042e-06, ('T', '9'): 2.2133344547561238e-06, ('C', '$'): 4.0963651276436685e-06, ('T', '4'): 4.150002102667732e-07, ('T', 'J'): 4.150002102667732e-07, ('C', '9'): 2.234380978714728e-06, ('C', 'z'): 1.117190489357364e-06, ('G', '5'): 1.8723330955470303e-07, ('C', 'F'): 7.447936595715761e-07, ('T', '+'): 9.683338239558041e-07, ('G', 'X'): 9.361665477735151e-07, ('C', 'p'): 5.58595244678682e-07, ('T', 'q'): 2.7666680684451547e-07, ('T', ';'): 4.150002102667732e-07, ('G', 'c'): 5.616999286641091e-07, ('C', 'H'): 1.8619841489289401e-07, ('T', '*'): 8.300004205335464e-07, ('C', '`'): 1.303388904250258e-06, ('C', '*'): 1.303388904250258e-06, ('T', '%'): 2.7666680684451547e-07, ('C', 'o'): 3.7239682978578803e-07, ('A', 'K'): 1.3737095887264598e-06, ('G', 'P'): 1.8723330955470303e-07, ('G', 'w'): 5.616999286641091e-07, ('C', '6'): 1.8619841489289401e-07, ('A', 'R'): 8.242257532358759e-07, ('C', '8'): 1.4895873191431521e-06, ('A', 'o'): 1.37370958872646e-07, ('T', '}'): 1.3833340342225773e-07, ('G', 'E'): 5.616999286641091e-07, ('T', 'I'): 1.3833340342225773e-07, ('A', 'j'): 4.1211287661793796e-07, ('G', '4'): 7.489332382188121e-07, ('T', 'W'): 2.7666680684451547e-07, ('G', '$'): 1.4978664764376243e-06, ('T', 'Q'): 2.7666680684451547e-07, ('G', 's'): 5.616999286641091e-07, ('C', '2'): 7.447936595715761e-07, ('G', 'B'): 5.616999286641091e-07, ('A', 'J'): 1.37370958872646e-07, ('T', 'R'): 1.3833340342225773e-07, ('C', 'P'): 7.447936595715761e-07, ('G', 'f'): 5.616999286641091e-07, ('A', 'a'): 4.1211287661793796e-07, ('T', 'x'): 2.7666680684451547e-07, ('T', 'o'): 1.3833340342225773e-07, ('C', 'B'): 3.7239682978578803e-07, ('C', '3'): 1.8619841489289401e-07, ('A', '\"'): 2.74741917745292e-07, ('C', ')'): 1.8619841489289401e-07, ('T', '/'): 2.7666680684451547e-07, ('T', 'K'): 2.7666680684451547e-07, ('C', '~'): 1.303388904250258e-06, ('C', '\\\\'): 1.8619841489289401e-07, ('G', '['): 3.7446661910940607e-07, ('T', 'V'): 4.150002102667732e-07, ('T', 'j'): 1.3833340342225773e-07, ('C', 'g'): 1.8619841489289401e-07, ('C', '7'): 3.7239682978578803e-07, ('C', 'K'): 5.58595244678682e-07, ('C', '&'): 3.7239682978578803e-07, ('C', '^'): 1.8619841489289401e-07, ('C', 'X'): 1.8619841489289401e-07, ('A', 'u'): 4.1211287661793796e-07, ('T', '>'): 4.150002102667732e-07, ('G', 'N'): 7.489332382188121e-07, ('T', '{'): 1.3833340342225773e-07, ('C', ':'): 3.7239682978578803e-07, ('G', 'V'): 3.7446661910940607e-07, ('C', '5'): 1.8619841489289401e-07, ('A', '!'): 1.37370958872646e-07, ('T', 'Y'): 1.3833340342225773e-07, ('T', '\\\\'): 1.3833340342225773e-07, ('A', '\\\\'): 1.37370958872646e-07, ('T', '.'): 1.3833340342225773e-07, ('C', 't'): 1.8619841489289401e-07, ('G', '>'): 3.7446661910940607e-07, ('T', 'f'): 1.3833340342225773e-07, ('G', 'D'): 3.7446661910940607e-07, ('T', '\"'): 1.3833340342225773e-07, ('T', 'b'): 1.3833340342225773e-07, ('T', 'g'): 6.916670171112887e-07, ('G', 'i'): 1.8723330955470303e-07, ('T', 'w'): 1.3833340342225773e-07, ('C', 'n'): 5.58595244678682e-07, ('G', ';'): 1.8723330955470303e-07, ('A', 'x'): 2.74741917745292e-07, ('T', '='): 5.533336136890309e-07, ('G', 'W'): 1.8723330955470303e-07, ('C', 'h'): 1.8619841489289401e-07, ('G', '^'): 7.489332382188121e-07, ('T', '`'): 2.7666680684451547e-07, ('G', '|'): 1.8723330955470303e-07, ('G', 'Z'): 3.7446661910940607e-07, ('G', '+'): 1.8723330955470303e-07, ('A', 'L'): 1.37370958872646e-07, ('C', '>'): 1.8619841489289401e-07, ('G', ']'): 1.8723330955470303e-07, ('A', '/'): 1.37370958872646e-07, ('A', '('): 1.37370958872646e-07, ('C', '\"'): 1.8619841489289401e-07}\n"
     ]
    }
   ],
   "source": [
    "k = 0\n",
    "\n",
    "des = str(np.load('prepData/insert2Des__HPGPNRMPC_hg38_chr2.npy'))\n",
    "anc = str(np.load('prepData/insert2Anc__HPGPNRMPC_hg38_chr2.npy'))\n",
    "\n",
    "print(len(anc), len(des))\n",
    "\n",
    "def buildTable(anc, des):\n",
    "    table = {}\n",
    "    freq = {}\n",
    "    for i in tqdm_notebook(range(len(anc)-k*2-1)):\n",
    "        try:\n",
    "            table[anc[i:i+k*2+1], des[i+k]] += 1\n",
    "        except KeyError:\n",
    "            table[anc[i:i+k*2+1], des[i+k]] = 1\n",
    "        try:\n",
    "            freq[anc[i:i+k*2+1]] += 1\n",
    "        except KeyError:\n",
    "            freq[anc[i:i+k*2+1]] = 1\n",
    "    for key in tqdm_notebook(table.keys()):\n",
    "        table[key] = table[key]/freq[key[0]]\n",
    "    return table, freq\n",
    "\n",
    "# table, freq = buildTable(anc,des)\n",
    "    \n",
    "# print(table)\n",
    "# np.save('table_{}'.format(k*2+1), table)\n",
    "\n",
    "freqDict = {}\n",
    "for i in range(len(des)):\n",
    "    try:\n",
    "        freqDict[i] += freqDict[i]\n",
    "    except KeyError:\n",
    "        "
   ]
  },
  {
   "cell_type": "code",
   "execution_count": 13,
   "metadata": {},
   "outputs": [
    {
     "name": "stdout",
     "output_type": "stream",
     "text": [
      "22587896 22587896 22587896\n",
      "GGCACTGTCT AGCACTGTCT GACACTCTCT\n",
      "42343685 42343685 42343685\n",
      "GTGGTGGTGT GTGGTGGTAT GTGGTGGTGA\n",
      "61140191 61140191 61140191\n",
      "CAAGAACACA CAAGAACACA CAAGAACACA\n",
      "79887837 79887837 79887837\n",
      "AAGCATTTGA AAGCATTTGA AAGCATTTGT\n",
      "104272401 104272401 104272401\n",
      "AAGATTTTGG AAGATATTGG AAGATTTTGA\n",
      "129025047 129025047 129025047\n",
      "TGTGGAAACA TGTGGAAACA TGTGGAAACT\n",
      "149860432 149860432 149860432\n",
      "TAGAGGCCAT TGGAGGCCAT TAGAGGCCAC\n"
     ]
    }
   ],
   "source": [
    "ancName = '_HPGPNRMPC'\n",
    "def load_seq(chromList):\n",
    "    inputAll = ''\n",
    "    predAll = ''\n",
    "    outputAll = ''\n",
    "    for chromosome in chromList:\n",
    "        try:\n",
    "            inputAll += str(np.load('prepData/insert2Anc_{}_hg38_chr{}.npy'.format(ancName,chromosome)))#[:10000000]\n",
    "            outputAll += str(np.load('prepData/insert2Des_{}_hg38_chr{}.npy'.format(ancName,chromosome)))#[:10000000]\n",
    "            predAll += str(np.load('prepData/simulated_{}_-1_chr{}.npy'.format(ancName, chromosome)))#[:10000000]\n",
    "        except FileNotFoundError:\n",
    "            print(chromosome)\n",
    "            continue\n",
    "        print(len(inputAll), len(outputAll), len(predAll))\n",
    "        print(inputAll[-10:], outputAll[-10:], predAll[-10:])\n",
    "    return [inputAll], [outputAll], [predAll]\n",
    "\n",
    "\n",
    "inputAll, outputAll, predAll = load_seq([12,16,17,19,20,21,22])\n"
   ]
  },
  {
   "cell_type": "code",
   "execution_count": 3,
   "metadata": {},
   "outputs": [],
   "source": [
    "def model_simulate(alphabet, k, inputAll):\n",
    "    inputAll = inputAll[0]\n",
    "    table = np.load('table_{}.npy'.format(k*2+1),allow_pickle=True).item()\n",
    "    pred_table = ''\n",
    "    for i in tqdm_notebook(range(len(inputAll))):\n",
    "        if i <k:\n",
    "            pred_table += inputAll[i]\n",
    "        elif k<=i<len(inputAll)-k:\n",
    "            mut_prob = []\n",
    "            for item in alphabet:\n",
    "                try:\n",
    "                    mut_prob.append(table[inputAll[i-k:i+k+1], item])\n",
    "                except KeyError:\n",
    "                    mut_prob.append(0)\n",
    "#             print(mut_prob)\n",
    "#             print(np.random.choice(len(mut_prob), 1, p=mut_prob))\n",
    "            pred_table += alphabet[np.random.multinomial(1, mut_prob).argmax()]\n",
    "#             pred_table += alphabet[np.random.choice(len(mut_prob), 1, p=mut_prob)[0]] \n",
    "        else :\n",
    "            pred_table += inputAll[i]\n",
    "    return pred_table"
   ]
  },
  {
   "cell_type": "code",
   "execution_count": 11,
   "metadata": {},
   "outputs": [
    {
     "name": "stdout",
     "output_type": "stream",
     "text": [
      "['A', 'C', 'G', 'T', '-', '0', '^', 'f', '4', 'B', 'w', 't', 'i', 'e', '.', 'c', '>', 'X', '5', '|', '[', 's', 'u', '(', '=', 'q', 'W', '_', '!', '{', '1', 'Q', 'U', 'b', 'M', ';', 'm', '~', 'a', ']', '&', ')', '7', '6', 'p', '%', 'n', 'P', 'F', 'h', '3', ':', 'z', '8', 'R', 'S', '/', 'j', 'o', 'd', '@', 'L', '}', 'H', 'Y', 'x', '\"', 'I', '\\\\', 'J', '9', '`', 'l', '<', 'N', 'V', 'D', '+', 'E', 'Z', '$', '?', '2', 'K', '*', 'g']\n"
     ]
    }
   ],
   "source": [
    "mut_dict = np.load('mut_dict_insert2.npy',allow_pickle=True).item()\n",
    "inv_dict = {v: k for k, v in mut_dict.items()}\n",
    "print(list(inv_dict.keys()))\n",
    "alphabet = list(inv_dict.keys())\n",
    "\n",
    "# pred_table = model_simulate(alphabet, k, inputAll)\n",
    "# np.save('predTable_{}'.format(k*2+1), pred_table)\n",
    "# print(pred_table[:1000])\n"
   ]
  },
  {
   "cell_type": "code",
   "execution_count": 4,
   "metadata": {},
   "outputs": [],
   "source": [
    "import math\n",
    "def cross_entropy(alphabet, k, inputAll, outputAll):\n",
    "    inputAll = inputAll[0]\n",
    "    outputAll = outputAll[0]\n",
    "    table = np.load('table_{}.npy'.format(k*2+1),allow_pickle=True).item()\n",
    "    result = 0\n",
    "    count = 0\n",
    "    for i in tqdm_notebook(range(len(inputAll))):\n",
    "        if k<=i<len(inputAll)-k:\n",
    "            try:\n",
    "                result += -math.log(table[inputAll[i-k:i+k+1], outputAll[i]])\n",
    "                count +=1\n",
    "            except KeyError:\n",
    "                continue\n",
    "#                 print('keyError')\n",
    "    return result/count\n",
    "\n",
    "def cross_entropy2(alphabet, k, inputAll, outputAll):\n",
    "    inputAll = inputAll[0]\n",
    "    outputAll = outputAll[0]\n",
    "    table = np.load('table_{}.npy'.format(k*2+1),allow_pickle=True).item()\n",
    "    result = 0\n",
    "    count = 0\n",
    "    for i in tqdm_notebook(range(len(inputAll))):\n",
    "        if k<=i<len(inputAll)-k:\n",
    "            try:\n",
    "                result += -math.log(table[inputAll[i-k:i+k+1], outputAll[i]])\n",
    "                count +=1\n",
    "            except KeyError:\n",
    "                result += 100\n",
    "                count +1\n",
    "    print(result/count)\n",
    "#                 print('keyError')\n",
    "    return result/count"
   ]
  },
  {
   "cell_type": "code",
   "execution_count": 12,
   "metadata": {},
   "outputs": [
    {
     "ename": "NameError",
     "evalue": "name 'inputAll' is not defined",
     "output_type": "error",
     "traceback": [
      "\u001b[0;31m---------------------------------------------------------------------------\u001b[0m",
      "\u001b[0;31mNameError\u001b[0m                                 Traceback (most recent call last)",
      "\u001b[0;32m<ipython-input-12-f1795e3adf56>\u001b[0m in \u001b[0;36m<module>\u001b[0;34m\u001b[0m\n\u001b[0;32m----> 1\u001b[0;31m \u001b[0mcross_entropy\u001b[0m\u001b[0;34m(\u001b[0m\u001b[0malphabet\u001b[0m\u001b[0;34m,\u001b[0m \u001b[0;36m0\u001b[0m\u001b[0;34m,\u001b[0m \u001b[0minputAll\u001b[0m\u001b[0;34m,\u001b[0m \u001b[0moutputAll\u001b[0m\u001b[0;34m)\u001b[0m\u001b[0;34m\u001b[0m\u001b[0;34m\u001b[0m\u001b[0m\n\u001b[0m",
      "\u001b[0;31mNameError\u001b[0m: name 'inputAll' is not defined"
     ]
    }
   ],
   "source": [
    "cross_entropy(alphabet, 0, inputAll, outputAll)"
   ]
  },
  {
   "cell_type": "code",
   "execution_count": 10,
   "metadata": {},
   "outputs": [
    {
     "name": "stderr",
     "output_type": "stream",
     "text": [
      "/home/mcb/users/dlim63/miniconda3/envs/research/lib/python3.7/site-packages/ipykernel_launcher.py:8: TqdmDeprecationWarning: This function will be removed in tqdm==5.0.0\n",
      "Please use `tqdm.notebook.tqdm` instead of `tqdm.tqdm_notebook`\n",
      "  \n"
     ]
    },
    {
     "data": {
      "application/vnd.jupyter.widget-view+json": {
       "model_id": "e763529e301d401fbdfffef16d85e3a5",
       "version_major": 2,
       "version_minor": 0
      },
      "text/plain": [
       "HBox(children=(IntProgress(value=0, max=149860432), HTML(value='')))"
      ]
     },
     "metadata": {},
     "output_type": "display_data"
    },
    {
     "name": "stdout",
     "output_type": "stream",
     "text": [
      "\n"
     ]
    },
    {
     "data": {
      "text/plain": [
       "0.20882172435559532"
      ]
     },
     "execution_count": 10,
     "metadata": {},
     "output_type": "execute_result"
    }
   ],
   "source": [
    "cross_entropy(alphabet, 2, inputAll, outputAll)"
   ]
  },
  {
   "cell_type": "code",
   "execution_count": 11,
   "metadata": {},
   "outputs": [
    {
     "name": "stderr",
     "output_type": "stream",
     "text": [
      "/home/mcb/users/dlim63/miniconda3/envs/research/lib/python3.7/site-packages/ipykernel_launcher.py:8: TqdmDeprecationWarning: This function will be removed in tqdm==5.0.0\n",
      "Please use `tqdm.notebook.tqdm` instead of `tqdm.tqdm_notebook`\n",
      "  \n"
     ]
    },
    {
     "data": {
      "application/vnd.jupyter.widget-view+json": {
       "model_id": "8947fa7200f8422aa7b7969aa5da6b43",
       "version_major": 2,
       "version_minor": 0
      },
      "text/plain": [
       "HBox(children=(IntProgress(value=0, max=149860432), HTML(value='')))"
      ]
     },
     "metadata": {},
     "output_type": "display_data"
    },
    {
     "name": "stdout",
     "output_type": "stream",
     "text": [
      "\n"
     ]
    },
    {
     "data": {
      "text/plain": [
       "0.07722072727808955"
      ]
     },
     "execution_count": 11,
     "metadata": {},
     "output_type": "execute_result"
    }
   ],
   "source": [
    "cross_entropy(alphabet, 5, inputAll, outputAll)"
   ]
  },
  {
   "cell_type": "code",
   "execution_count": 13,
   "metadata": {},
   "outputs": [
    {
     "name": "stderr",
     "output_type": "stream",
     "text": [
      "/home/mcb/users/dlim63/miniconda3/envs/research/lib/python3.7/site-packages/ipykernel_launcher.py:8: TqdmDeprecationWarning: This function will be removed in tqdm==5.0.0\n",
      "Please use `tqdm.notebook.tqdm` instead of `tqdm.tqdm_notebook`\n",
      "  \n"
     ]
    },
    {
     "data": {
      "application/vnd.jupyter.widget-view+json": {
       "model_id": "f6b7b6a014904d9398503778d49095f3",
       "version_major": 2,
       "version_minor": 0
      },
      "text/plain": [
       "HBox(children=(IntProgress(value=0, max=149860432), HTML(value='')))"
      ]
     },
     "metadata": {},
     "output_type": "display_data"
    },
    {
     "name": "stdout",
     "output_type": "stream",
     "text": [
      "\n"
     ]
    },
    {
     "data": {
      "text/plain": [
       "0.098972098412289"
      ]
     },
     "execution_count": 13,
     "metadata": {},
     "output_type": "execute_result"
    }
   ],
   "source": [
    "cross_entropy(alphabet, 7, inputAll, outputAll)"
   ]
  },
  {
   "cell_type": "code",
   "execution_count": 14,
   "metadata": {},
   "outputs": [
    {
     "name": "stderr",
     "output_type": "stream",
     "text": [
      "/home/mcb/users/dlim63/miniconda3/envs/research/lib/python3.7/site-packages/ipykernel_launcher.py:8: TqdmDeprecationWarning: This function will be removed in tqdm==5.0.0\n",
      "Please use `tqdm.notebook.tqdm` instead of `tqdm.tqdm_notebook`\n",
      "  \n"
     ]
    },
    {
     "data": {
      "application/vnd.jupyter.widget-view+json": {
       "model_id": "788a6b45badd40a6ba15e746d6ee1da3",
       "version_major": 2,
       "version_minor": 0
      },
      "text/plain": [
       "HBox(children=(IntProgress(value=0, max=149860432), HTML(value='')))"
      ]
     },
     "metadata": {},
     "output_type": "display_data"
    },
    {
     "name": "stdout",
     "output_type": "stream",
     "text": [
      "\n"
     ]
    },
    {
     "data": {
      "text/plain": [
       "0.11081867999770367"
      ]
     },
     "execution_count": 14,
     "metadata": {},
     "output_type": "execute_result"
    }
   ],
   "source": [
    "cross_entropy(alphabet, 10, inputAll, outputAll)"
   ]
  },
  {
   "cell_type": "code",
   "execution_count": 15,
   "metadata": {},
   "outputs": [
    {
     "name": "stderr",
     "output_type": "stream",
     "text": [
      "/home/mcb/users/dlim63/miniconda3/envs/research/lib/python3.7/site-packages/ipykernel_launcher.py:8: TqdmDeprecationWarning: This function will be removed in tqdm==5.0.0\n",
      "Please use `tqdm.notebook.tqdm` instead of `tqdm.tqdm_notebook`\n",
      "  \n"
     ]
    },
    {
     "data": {
      "application/vnd.jupyter.widget-view+json": {
       "model_id": "a8231b91bc2247539e50cf857dee830e",
       "version_major": 2,
       "version_minor": 0
      },
      "text/plain": [
       "HBox(children=(IntProgress(value=0, max=149860432), HTML(value='')))"
      ]
     },
     "metadata": {},
     "output_type": "display_data"
    },
    {
     "name": "stdout",
     "output_type": "stream",
     "text": [
      "\n"
     ]
    },
    {
     "data": {
      "text/plain": [
       "0.06958409766111845"
      ]
     },
     "execution_count": 15,
     "metadata": {},
     "output_type": "execute_result"
    }
   ],
   "source": [
    "cross_entropy(alphabet, 19, inputAll, outputAll)"
   ]
  },
  {
   "cell_type": "code",
   "execution_count": null,
   "metadata": {},
   "outputs": [],
   "source": [
    "0.22000798713506123 0.20882172435559532 0.07722072727808955 0.098972098412289 0.11081867999770367 0.06958409766111845"
   ]
  },
  {
   "cell_type": "code",
   "execution_count": 19,
   "metadata": {},
   "outputs": [
    {
     "name": "stderr",
     "output_type": "stream",
     "text": [
      "/home/mcb/users/dlim63/miniconda3/envs/research/lib/python3.7/site-packages/ipykernel_launcher.py:24: TqdmDeprecationWarning: This function will be removed in tqdm==5.0.0\n",
      "Please use `tqdm.notebook.tqdm` instead of `tqdm.tqdm_notebook`\n"
     ]
    },
    {
     "data": {
      "application/vnd.jupyter.widget-view+json": {
       "model_id": "c9e739c87b7a4bbeb84d2d082a610f7c",
       "version_major": 2,
       "version_minor": 0
      },
      "text/plain": [
       "HBox(children=(IntProgress(value=0, max=149860432), HTML(value='')))"
      ]
     },
     "metadata": {},
     "output_type": "display_data"
    },
    {
     "name": "stdout",
     "output_type": "stream",
     "text": [
      "\n",
      "1.6824765291535215\n"
     ]
    },
    {
     "data": {
      "application/vnd.jupyter.widget-view+json": {
       "model_id": "788903f12aab465e83872ee4037885a4",
       "version_major": 2,
       "version_minor": 0
      },
      "text/plain": [
       "HBox(children=(IntProgress(value=0, max=149860432), HTML(value='')))"
      ]
     },
     "metadata": {},
     "output_type": "display_data"
    },
    {
     "name": "stdout",
     "output_type": "stream",
     "text": [
      "\n",
      "1.6824765291535215\n"
     ]
    },
    {
     "data": {
      "application/vnd.jupyter.widget-view+json": {
       "model_id": "3e5a46a29fda4457a41796204de1715d",
       "version_major": 2,
       "version_minor": 0
      },
      "text/plain": [
       "HBox(children=(IntProgress(value=0, max=149860432), HTML(value='')))"
      ]
     },
     "metadata": {},
     "output_type": "display_data"
    },
    {
     "name": "stdout",
     "output_type": "stream",
     "text": [
      "\n",
      "579.4176666776625\n"
     ]
    },
    {
     "data": {
      "application/vnd.jupyter.widget-view+json": {
       "model_id": "2894c5f9b08e49b3a124c750e402f1ac",
       "version_major": 2,
       "version_minor": 0
      },
      "text/plain": [
       "HBox(children=(IntProgress(value=0, max=149860432), HTML(value='')))"
      ]
     },
     "metadata": {},
     "output_type": "display_data"
    },
    {
     "name": "stdout",
     "output_type": "stream",
     "text": [
      "\n",
      "35277.54218222401\n"
     ]
    },
    {
     "data": {
      "application/vnd.jupyter.widget-view+json": {
       "model_id": "543432d5f40b403eb2432dce6e35b1e5",
       "version_major": 2,
       "version_minor": 0
      },
      "text/plain": [
       "HBox(children=(IntProgress(value=0, max=149860432), HTML(value='')))"
      ]
     },
     "metadata": {},
     "output_type": "display_data"
    },
    {
     "name": "stdout",
     "output_type": "stream",
     "text": [
      "\n",
      "85139.45472077485\n"
     ]
    },
    {
     "data": {
      "application/vnd.jupyter.widget-view+json": {
       "model_id": "ba243cfe8fdd402b8e851b2078ee70d5",
       "version_major": 2,
       "version_minor": 0
      },
      "text/plain": [
       "HBox(children=(IntProgress(value=0, max=149860432), HTML(value='')))"
      ]
     },
     "metadata": {},
     "output_type": "display_data"
    },
    {
     "name": "stdout",
     "output_type": "stream",
     "text": [
      "\n",
      "268903.2975277761\n"
     ]
    },
    {
     "data": {
      "text/plain": [
       "268903.2975277761"
      ]
     },
     "execution_count": 19,
     "metadata": {},
     "output_type": "execute_result"
    }
   ],
   "source": [
    "cross_entropy2(alphabet, 0, inputAll, outputAll)\n",
    "cross_entropy2(alphabet, 2, inputAll, outputAll)\n",
    "cross_entropy2(alphabet, 5, inputAll, outputAll)\n",
    "cross_entropy2(alphabet, 7, inputAll, outputAll)\n",
    "cross_entropy2(alphabet, 10, inputAll, outputAll)\n",
    "cross_entropy2(alphabet, 19, inputAll, outputAll)"
   ]
  }
 ],
 "metadata": {
  "kernelspec": {
   "display_name": "Python 3",
   "language": "python",
   "name": "python3"
  },
  "language_info": {
   "codemirror_mode": {
    "name": "ipython",
    "version": 3
   },
   "file_extension": ".py",
   "mimetype": "text/x-python",
   "name": "python",
   "nbconvert_exporter": "python",
   "pygments_lexer": "ipython3",
   "version": "3.7.5"
  }
 },
 "nbformat": 4,
 "nbformat_minor": 2
}
